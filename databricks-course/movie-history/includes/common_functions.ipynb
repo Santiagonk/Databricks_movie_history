{
 "cells": [
  {
   "cell_type": "code",
   "execution_count": 0,
   "metadata": {
    "application/vnd.databricks.v1+cell": {
     "cellMetadata": {},
     "inputWidgets": {},
     "nuid": "83969c8d-04d9-4473-be27-d8c73cb7a1bc",
     "showTitle": false,
     "tableResultSettingsMap": {},
     "title": ""
    }
   },
   "outputs": [],
   "source": [
    "from pyspark.sql.functions import current_timestamp\n",
    "def add_ingestion_date(input_df):\n",
    "    return input_df.withColumn(\"ingestion_date\", current_timestamp())"
   ]
  },
  {
   "cell_type": "code",
   "execution_count": 0,
   "metadata": {
    "application/vnd.databricks.v1+cell": {
     "cellMetadata": {},
     "inputWidgets": {},
     "nuid": "0ea269e5-f40c-4399-b735-c3d5f975257b",
     "showTitle": false,
     "tableResultSettingsMap": {},
     "title": ""
    }
   },
   "outputs": [],
   "source": [
    "def overwrite_partition_data(input_df, db_name, table_name, column_partition):\n",
    "    for item_list in input_df.select(column_partition).distinct().collect():\n",
    "        if (spark._jsparkSession.catalog().tableExists(f\"{db_name}.{table_name}\")):\n",
    "            spark.sql(f\"ALTER TABLE {db_name}.{table_name} DROP IF EXISTS PARTITION ({column_partition} = '{item_list[column_partition]}')\")"
   ]
  },
  {
   "cell_type": "code",
   "execution_count": 0,
   "metadata": {
    "application/vnd.databricks.v1+cell": {
     "cellMetadata": {},
     "inputWidgets": {},
     "nuid": "5b24a6c7-2d81-45f0-8c6a-005998e710be",
     "showTitle": false,
     "tableResultSettingsMap": {},
     "title": ""
    }
   },
   "outputs": [],
   "source": [
    "from delta.tables import DeltaTable\n",
    "\n",
    "def merge_delta_lake(input_df, db_name, table_name, folder_path, merge_condition, partition_column):\n",
    "    if (spark._jsparkSession.catalog().tableExists(f\"{db_name}.{table_name}\")):\n",
    "        deltaTable = DeltaTable.forPath(spark, f\"{folder_path}/{table_name}\")\n",
    "\n",
    "        deltaTable.alias(\"tgt\") \\\n",
    "            .merge(\n",
    "                input_df.alias(\"src\"),\n",
    "                merge_condition\n",
    "            ) \\\n",
    "            .whenMatchedUpdateAll() \\\n",
    "            .whenNotMatchedInsertAll() \\\n",
    "            .execute() \n",
    "    else:\n",
    "        input_df.write \\\n",
    "            .mode(\"overwrite\") \\\n",
    "            .partitionBy(partition_column) \\\n",
    "            .format(\"delta\") \\\n",
    "            .saveAsTable(f\"{db_name}.{table_name}\")"
   ]
  }
 ],
 "metadata": {
  "application/vnd.databricks.v1+notebook": {
   "computePreferences": null,
   "dashboards": [],
   "environmentMetadata": {
    "base_environment": "",
    "environment_version": "2"
   },
   "inputWidgetPreferences": null,
   "language": "python",
   "notebookMetadata": {
    "pythonIndentUnit": 4
   },
   "notebookName": "common_functions",
   "widgets": {}
  },
  "language_info": {
   "name": "python"
  }
 },
 "nbformat": 4,
 "nbformat_minor": 0
}
