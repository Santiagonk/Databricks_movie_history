{
 "cells": [
  {
   "cell_type": "markdown",
   "metadata": {
    "application/vnd.databricks.v1+cell": {
     "cellMetadata": {
      "byteLimit": 2048000,
      "rowLimit": 10000
     },
     "inputWidgets": {},
     "nuid": "117a9bc7-cd01-4700-84e2-cc63f75ed78a",
     "showTitle": false,
     "tableResultSettingsMap": {},
     "title": ""
    }
   },
   "source": [
    "### Crear la Tabla results_movie en la capa \"gold\""
   ]
  },
  {
   "cell_type": "code",
   "execution_count": 0,
   "metadata": {
    "application/vnd.databricks.v1+cell": {
     "cellMetadata": {
      "byteLimit": 2048000,
      "rowLimit": 10000
     },
     "inputWidgets": {},
     "nuid": "32a1b593-e08e-4a33-b817-5bec77509e4e",
     "showTitle": false,
     "tableResultSettingsMap": {},
     "title": ""
    }
   },
   "outputs": [],
   "source": [
    "dbutils.widgets.text(\"p_file_date\", \"2024-12-30\")\n",
    "v_file_date = dbutils.widgets.get(\"p_file_date\")"
   ]
  },
  {
   "cell_type": "code",
   "execution_count": 0,
   "metadata": {
    "application/vnd.databricks.v1+cell": {
     "cellMetadata": {
      "byteLimit": 2048000,
      "implicitDf": true,
      "rowLimit": 10000
     },
     "inputWidgets": {},
     "nuid": "ec2c2fc0-0806-43f4-9a1b-de3ada682395",
     "showTitle": false,
     "tableResultSettingsMap": {},
     "title": ""
    }
   },
   "outputs": [],
   "source": [
    "%sql\n",
    "USE movie_silver;"
   ]
  },
  {
   "cell_type": "code",
   "execution_count": 0,
   "metadata": {
    "application/vnd.databricks.v1+cell": {
     "cellMetadata": {
      "byteLimit": 2048000,
      "rowLimit": 10000
     },
     "inputWidgets": {},
     "nuid": "80ff8e53-c180-46c7-8705-ca2960f19669",
     "showTitle": false,
     "tableResultSettingsMap": {},
     "title": ""
    }
   },
   "outputs": [],
   "source": [
    "spark.sql(f\"\"\"\n",
    "    CREATE TABLE IF NOT EXISTS movie_gold.results_movie\n",
    "    (\n",
    "        year_release_date INT,\n",
    "        country_name STRING,\n",
    "        company_name STRING,\n",
    "        budget FLOAT,\n",
    "        revenue FLOAT,\n",
    "        movie_id INT,\n",
    "        country_id INT,\n",
    "        company_id INT,\n",
    "        created_date DATE,\n",
    "        updated_date DATE\n",
    "    )\n",
    "    USING DELTA\n",
    "\"\"\")"
   ]
  },
  {
   "cell_type": "code",
   "execution_count": 0,
   "metadata": {
    "application/vnd.databricks.v1+cell": {
     "cellMetadata": {
      "byteLimit": 2048000,
      "rowLimit": 10000
     },
     "inputWidgets": {},
     "nuid": "1d4a2e13-96a4-49c3-8c22-1d1decac4bd6",
     "showTitle": false,
     "tableResultSettingsMap": {},
     "title": ""
    }
   },
   "outputs": [],
   "source": [
    "spark.sql(f\"\"\"\n",
    "    CREATE OR REPLACE TEMP VIEW v_results_movie\n",
    "    AS\n",
    "    SELECT \n",
    "    M.year_release_date,\n",
    "    C.country_name,\n",
    "    PCO.company_name,\n",
    "    M.budget,\n",
    "    M.revenue,\n",
    "    M.movie_id,\n",
    "    C.country_id,\n",
    "    PCO.company_id\n",
    "    FROM movie_silver.movies M\n",
    "    INNER JOIN movie_silver.productions_countries PC  ON M.movie_id    = PC.movie_id\n",
    "    INNER JOIN movie_silver.countries             C   ON C.country_id  = PC.country_id\n",
    "    INNER JOIN movie_silver.movies_companies      MC  ON M.movie_id    = MC.movie_id\n",
    "    INNER JOIN movie_silver.productions_companies PCO ON MC.company_id = PCO.company_id\n",
    "    WHERE M.file_date = '{v_file_date}'\n",
    "\"\"\")"
   ]
  },
  {
   "cell_type": "code",
   "execution_count": 0,
   "metadata": {
    "application/vnd.databricks.v1+cell": {
     "cellMetadata": {
      "byteLimit": 2048000,
      "implicitDf": true,
      "rowLimit": 10000
     },
     "inputWidgets": {},
     "nuid": "7a623fbf-c38e-45bb-b658-dd074d4176db",
     "showTitle": false,
     "tableResultSettingsMap": {},
     "title": ""
    }
   },
   "outputs": [],
   "source": [
    "spark.sql(f\"\"\"\n",
    "    MERGE INTO movie_gold.results_movie tgt\n",
    "    USING v_results_movie src\n",
    "    ON (tgt.movie_id = src.movie_id AND tgt.country_id = src.country_id AND tgt.company_id = src.company_id)\n",
    "    WHEN MATCHED THEN \n",
    "        UPDATE SET \n",
    "            tgt.year_release_date = src.year_release_date,\n",
    "            tgt.country_name = src.country_name,\n",
    "            tgt.company_name = src.company_name,\n",
    "            tgt.budget = src.budget,\n",
    "            tgt.revenue = src.revenue,\n",
    "            tgt.updated_date = current_timestamp\n",
    "    WHEN NOT MATCHED THEN \n",
    "        INSERT ( year_release_date, country_name, company_name, budget, revenue, movie_id, company_id, country_id, created_date )\n",
    "        VALUES ( \n",
    "                year_release_date, country_name, company_name, budget, revenue, movie_id, company_id, country_id, current_timestamp\n",
    "        )\n",
    "\"\"\")"
   ]
  },
  {
   "cell_type": "code",
   "execution_count": 0,
   "metadata": {
    "application/vnd.databricks.v1+cell": {
     "cellMetadata": {
      "byteLimit": 2048000,
      "implicitDf": true,
      "rowLimit": 10000
     },
     "inputWidgets": {},
     "nuid": "f86a8969-9fee-4e32-8dba-306c2c01cd39",
     "showTitle": false,
     "tableResultSettingsMap": {},
     "title": ""
    }
   },
   "outputs": [],
   "source": [
    "%sql\n",
    "SELECT COUNT(1) FROM movie_gold.results_movie;"
   ]
  },
  {
   "cell_type": "code",
   "execution_count": 0,
   "metadata": {
    "application/vnd.databricks.v1+cell": {
     "cellMetadata": {
      "byteLimit": 2048000,
      "implicitDf": true,
      "rowLimit": 10000
     },
     "inputWidgets": {},
     "nuid": "c9910d75-2c18-4c68-b906-a66814a1f377",
     "showTitle": false,
     "tableResultSettingsMap": {},
     "title": ""
    }
   },
   "outputs": [],
   "source": [
    "%sql\n",
    "SELECT COUNT(1) FROM v_results_movie;"
   ]
  }
 ],
 "metadata": {
  "application/vnd.databricks.v1+notebook": {
   "computePreferences": null,
   "dashboards": [],
   "environmentMetadata": {
    "base_environment": "",
    "environment_version": "2"
   },
   "inputWidgetPreferences": null,
   "language": "python",
   "notebookMetadata": {
    "mostRecentlyExecutedCommandWithImplicitDF": {
     "commandId": 5965734768132363,
     "dataframes": [
      "_sqldf"
     ]
    },
    "pythonIndentUnit": 4
   },
   "notebookName": "06.results_movie",
   "widgets": {
    "p_file_date": {
     "currentValue": "2024-12-16",
     "nuid": "9ba836a1-e9df-4fde-86fb-47a18540f5a4",
     "typedWidgetInfo": {
      "autoCreated": false,
      "defaultValue": "2024-12-30",
      "label": null,
      "name": "p_file_date",
      "options": {
       "widgetDisplayType": "Text",
       "validationRegex": null
      },
      "parameterDataType": "String"
     },
     "widgetInfo": {
      "widgetType": "text",
      "defaultValue": "2024-12-30",
      "label": null,
      "name": "p_file_date",
      "options": {
       "widgetType": "text",
       "autoCreated": null,
       "validationRegex": null
      }
     }
    }
   }
  },
  "language_info": {
   "name": "python"
  }
 },
 "nbformat": 4,
 "nbformat_minor": 0
}
